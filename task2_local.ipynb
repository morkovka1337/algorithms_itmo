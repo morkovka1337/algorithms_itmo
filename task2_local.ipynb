{
 "cells": [
  {
   "cell_type": "code",
   "execution_count": 44,
   "metadata": {},
   "outputs": [],
   "source": [
    "import numpy as np\n"
   ]
  },
  {
   "cell_type": "code",
   "execution_count": 45,
   "metadata": {},
   "outputs": [],
   "source": [
    "def golden_section_dich(a, b, eps, func):\n",
    "    iter_count, func_count = 1, 2\n",
    "\n",
    "    def x_1(c, d):\n",
    "        return c + (3 - np.sqrt(5)) * (d - c) / 2\n",
    "\n",
    "    def x_2(c, d):\n",
    "        return d + (np.sqrt(5)-3) * (d - c) / 2\n",
    "\n",
    "    # First step iteration\n",
    "    x1, x2 = x_1(a, b), x_2(a, b)\n",
    "    while np.abs(a - b) >= eps:\n",
    "        if func(x1) <= func(x2):\n",
    "            b = x2\n",
    "            x2 = x1\n",
    "            x1 = x_1(a, b)\n",
    "        else:\n",
    "            a = x1\n",
    "            x1 = x2\n",
    "            x2 = x_2(a, b)\n",
    "        iter_count += 1\n",
    "        func_count += 1\n",
    "\n",
    "    return (a + b) / 2, func((a + b) / 2), func_count, iter_count\n"
   ]
  },
  {
   "cell_type": "code",
   "execution_count": 46,
   "metadata": {},
   "outputs": [
    {
     "name": "stdout",
     "output_type": "stream",
     "text": [
      "(0.20001983208840554, 1.98320884055303e-05, 22, 21)\n"
     ]
    }
   ],
   "source": [
    "def func2(x):\n",
    "    return abs(x-0.2)\n",
    "print(golden_section_dich(0., 1, 0.0001, func2))"
   ]
  }
 ],
 "metadata": {
  "interpreter": {
   "hash": "64f760b7bc0f7ffbb5b284e04990969aead3e0978f9ef7742b0edbc6b63182ca"
  },
  "kernelspec": {
   "display_name": "Python 3.7.11 64-bit ('pandas': conda)",
   "name": "python3"
  },
  "language_info": {
   "codemirror_mode": {
    "name": "ipython",
    "version": 3
   },
   "file_extension": ".py",
   "mimetype": "text/x-python",
   "name": "python",
   "nbconvert_exporter": "python",
   "pygments_lexer": "ipython3",
   "version": "3.7.11"
  },
  "orig_nbformat": 4
 },
 "nbformat": 4,
 "nbformat_minor": 2
}
