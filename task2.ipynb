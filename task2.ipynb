{
 "cells": [
  {
   "cell_type": "code",
   "execution_count": 69,
   "metadata": {},
   "outputs": [],
   "source": [
    "import scipy.optimize as opt\n",
    "from functools import partial\n",
    "import matplotlib.pyplot as plt\n",
    "import numpy as np\n",
    "import scipy as sp\n",
    "np.random.seed(42)\n"
   ]
  },
  {
   "cell_type": "code",
   "execution_count": 70,
   "metadata": {},
   "outputs": [],
   "source": [
    "def cube_func(x):\n",
    "    return x**3\n",
    "\n",
    "def abs_func(x):\n",
    "    return abs(x-0.2)\n",
    "\n",
    "def sin_x_func(x):\n",
    "    return x * np.sin(1/x)\n",
    "\n",
    "eps = 1e-3"
   ]
  },
  {
   "cell_type": "code",
   "execution_count": 71,
   "metadata": {},
   "outputs": [
    {
     "name": "stdout",
     "output_type": "stream",
     "text": [
      "arg = 0.0000, min value = 0.0000, # iters = 1001, # function calls = 1001\n",
      "arg = 0.2000, min value = 0.0000, # iters = 1001, # function calls = 1001\n",
      "arg = 0.2230, min value = -0.2172, # iters = 991, # function calls = 991\n"
     ]
    }
   ],
   "source": [
    "def search(left, right, eps, func):\n",
    "    x = np.linspace(left, right, int((right-left)/eps) + 1)\n",
    "    values = np.array(list(map(func, x)))\n",
    "    min = np.argmin(values)\n",
    "    arg = x[min]\n",
    "    min_value = func(arg)\n",
    "    func_calls = int((right-left)/eps) + 1\n",
    "    iters = func_calls\n",
    "    return arg, min_value, iters, func_calls\n",
    "\n",
    "print('arg = {:.4f}, min value = {:.4f}, # iters = {}, # function calls = {}'.format(*search(0, 1, eps, cube_func)))\n",
    "print('arg = {:.4f}, min value = {:.4f}, # iters = {}, # function calls = {}'.format(*search(0, 1, eps, abs_func)))\n",
    "print('arg = {:.4f}, min value = {:.4f}, # iters = {}, # function calls = {}'.format(*search(0.01, 1, eps, sin_x_func)))"
   ]
  },
  {
   "cell_type": "code",
   "execution_count": 72,
   "metadata": {},
   "outputs": [
    {
     "name": "stdout",
     "output_type": "stream",
     "text": [
      "arg = 0.0005, min value = 0.0000, # iters = 11, # function calls = 12\n",
      "arg = 0.2001, min value = 0.0001, # iters = 11, # function calls = 12\n",
      "arg = 0.2226, min value = -0.2172, # iters = 11, # function calls = 12\n"
     ]
    }
   ],
   "source": [
    "def dichotomy(left, right, eps, func):\n",
    "    delta = eps / 2\n",
    "    iters = 0\n",
    "    func_calls = 1\n",
    "    x1 = (left + right - delta ) / 2\n",
    "    x2 = (left + right + delta ) / 2\n",
    "    while abs(left - right) > eps:\n",
    "        if func(x1) <= func(x2):\n",
    "            right = x2\n",
    "        else:\n",
    "            left = x1\n",
    "        x1 = (left + right - delta ) / 2\n",
    "        x2 = (left + right + delta ) / 2\n",
    "        iters += 1\n",
    "        func_calls += 1\n",
    "    arg = (x1 + x2) /2\n",
    "    min_value = func(arg)\n",
    "    return arg, min_value, iters, func_calls\n",
    "\n",
    "print('arg = {:.4f}, min value = {:.4f}, # iters = {}, # function calls = {}'.format(*dichotomy(0, 1, eps, cube_func)))\n",
    "print('arg = {:.4f}, min value = {:.4f}, # iters = {}, # function calls = {}'.format(*dichotomy(0, 1, eps, abs_func)))\n",
    "print('arg = {:.4f}, min value = {:.4f}, # iters = {}, # function calls = {}'.format(*dichotomy(0.01, 1, eps, sin_x_func)))\n",
    "    "
   ]
  },
  {
   "cell_type": "code",
   "execution_count": 73,
   "metadata": {},
   "outputs": [
    {
     "name": "stdout",
     "output_type": "stream",
     "text": [
      "arg = 0.0004, min value = 0.0000, # iters = 15, # function calls = 16\n",
      "arg = 0.2001, min value = 0.0001, # iters = 15, # function calls = 16\n",
      "arg = 0.2227, min value = -0.2172, # iters = 15, # function calls = 16\n"
     ]
    }
   ],
   "source": [
    "def golden_section(left, right, eps, func):\n",
    "    x1 = left + (3 - 5**0.5)/2 * (right - left)\n",
    "    x2 = right + (5**0.5 - 3)/2 * (right - left)\n",
    "    iters = 0\n",
    "    while abs(left - right) > eps:\n",
    "        if func(x1) <= func(x2):\n",
    "            right = x2\n",
    "            x2 = x1\n",
    "            x1 = left + (3 - 5**0.5)/2 * (right - left)\n",
    "\n",
    "        else:\n",
    "            left = x1\n",
    "            x1 = x2\n",
    "            x2 = right + (5**0.5 - 3)/2 * (right - left)\n",
    "\n",
    "        iters += 1\n",
    "    func_calls = iters + 1\n",
    "    arg = (x1 + x2) / 2\n",
    "    min_value = func(arg)\n",
    "    return arg, min_value, iters, func_calls\n",
    "\n",
    "\n",
    "print('arg = {:.4f}, min value = {:.4f}, # iters = {}, # function calls = {}'.format(\n",
    "    *golden_section(0, 1, eps, cube_func)))\n",
    "print('arg = {:.4f}, min value = {:.4f}, # iters = {}, # function calls = {}'.format(\n",
    "    *golden_section(0, 1, eps, abs_func)))\n",
    "print('arg = {:.4f}, min value = {:.4f}, # iters = {}, # function calls = {}'.format(\n",
    "    *golden_section(0.01, 1, eps, sin_x_func)))\n"
   ]
  },
  {
   "cell_type": "code",
   "execution_count": 74,
   "metadata": {},
   "outputs": [],
   "source": [
    "alpha = np.random.rand(1)\n",
    "beta = np.random.rand(1)\n",
    "alpha, beta\n",
    "\n",
    "x = np.linspace(0, 1, 101)\n",
    "yk = alpha * x + beta \n",
    "yk_noisy = yk + np.random.randn(101)\n"
   ]
  },
  {
   "cell_type": "code",
   "execution_count": 75,
   "metadata": {},
   "outputs": [],
   "source": [
    "def linear_approx(x, a, b):\n",
    "    def linear(x, a, b):\n",
    "        return a*x + b\n",
    "    return np.array(list(map(partial(linear, a=a, b=b), x)))\n",
    "\n",
    "\n",
    "def rational_approx(x, a, b):\n",
    "    def rational(x, a, b):\n",
    "        denominator = 1 + x * b\n",
    "        return a / denominator\n",
    "    return np.array(list(map(partial(rational, a=a, b=b), x)))\n",
    "\n",
    "\n",
    "def cost_func(params, gt, x, func_name):\n",
    "    a, b = params\n",
    "    if func_name == 'linear':\n",
    "        return sum((gt - linear_approx(x, a, b))**2)\n",
    "\n",
    "    value = sum((gt - rational_approx(x, a, b))**2)\n",
    "    return value\n"
   ]
  },
  {
   "cell_type": "code",
   "execution_count": 76,
   "metadata": {},
   "outputs": [
    {
     "name": "stdout",
     "output_type": "stream",
     "text": [
      "[0.37457356 0.95069821]\n",
      "********************************************************************************\n",
      "   direc: array([[ 0.        ,  1.        ],\n",
      "       [-1.04872929,  0.52436465]])\n",
      "     fun: 0.0\n",
      " message: 'Optimization terminated successfully.'\n",
      "    nfev: 60\n",
      "     nit: 3\n",
      "  status: 0\n",
      " success: True\n",
      "       x: array([0.37454012, 0.95071431])\n",
      "********************************************************************************\n",
      " final_simplex: (array([[0.37488366, 0.95065805],\n",
      "       [0.37415517, 0.95079025],\n",
      "       [0.37485029, 0.95032093]]), array([2.36087365e-06, 2.64386237e-06, 6.56096186e-06]))\n",
      "           fun: 2.3608736471050557e-06\n",
      "       message: 'Optimization terminated successfully.'\n",
      "          nfev: 106\n",
      "           nit: 54\n",
      "        status: 0\n",
      "       success: True\n",
      "             x: array([0.37488366, 0.95065805])\n"
     ]
    }
   ],
   "source": [
    "res_search_linear = opt.brute(cost_func, [[0, 1], [0, 1]], args=(yk, x, 'linear'), Ns=int(1/eps) + 1)\n",
    "\n",
    "res_gauss_linear = opt.minimize(cost_func, [0, 0], args=(yk, x, 'linear'), tol=eps, method='Powell')\n",
    "res_nelder_mead_linear = opt.minimize(cost_func, [0, 0], args=(yk, x, 'linear'), tol=eps, method='Nelder-Mead')\n",
    "\n",
    "print(res_search_linear)\n",
    "print('*' * 80)\n",
    "print(res_gauss_linear)\n",
    "print('*' * 80)\n",
    "print(res_nelder_mead_linear)\n"
   ]
  },
  {
   "cell_type": "code",
   "execution_count": 98,
   "metadata": {},
   "outputs": [
    {
     "data": {
      "image/png": "[encoded data removed]",
      "text/plain": [
       "<Figure size 864x576 with 1 Axes>"
      ]
     },
     "metadata": {
      "needs_background": "light"
     },
     "output_type": "display_data"
    }
   ],
   "source": [
    "plt.figure(figsize=(12, 8))\n",
    "plt.plot(x, yk)\n",
    "plt.plot(x, linear_approx(x, *res_search_linear))\n",
    "plt.plot(x, linear_approx(x, *res_gauss_linear.x))\n",
    "plt.plot(x, linear_approx(x, *res_nelder_mead_linear.x))\n",
    "plt.scatter(x, yk_noisy)\n",
    "plt.legend(['Non Noisy data', 'Linear approximation search',\n",
    "           'Linear approximation gauss', 'Linear approximation Nelder-Mead', 'Noisy data'])\n",
    "plt.show()"
   ]
  },
  {
   "cell_type": "code",
   "execution_count": 92,
   "metadata": {},
   "outputs": [
    {
     "name": "stdout",
     "output_type": "stream",
     "text": [
      "[ 0.97147445 -0.27744462]\n",
      "********************************************************************************\n",
      "   direc: array([[ 0.        ,  1.        ],\n",
      "       [-0.02069026, -0.02401838]])\n",
      "     fun: 0.008671313277411382\n",
      " message: 'Optimization terminated successfully.'\n",
      "    nfev: 111\n",
      "     nit: 4\n",
      "  status: 0\n",
      " success: True\n",
      "       x: array([ 0.97148749, -0.27745008])\n",
      "********************************************************************************\n",
      " final_simplex: (array([[ 0.97178375, -0.27708776],\n",
      "       [ 0.97116575, -0.27763086],\n",
      "       [ 0.97129078, -0.27787315]]), array([0.00867447, 0.00867692, 0.00867704]))\n",
      "           fun: 0.008674474624641229\n",
      "       message: 'Optimization terminated successfully.'\n",
      "          nfev: 123\n",
      "           nit: 64\n",
      "        status: 0\n",
      "       success: True\n",
      "             x: array([ 0.97178375, -0.27708776])\n"
     ]
    },
    {
     "name": "stderr",
     "output_type": "stream",
     "text": [
      "C:\\Users\\morko\\AppData\\Local\\Temp/ipykernel_21860/485214572.py:10: RuntimeWarning: divide by zero encountered in double_scalars\n",
      "  return a / denominator\n"
     ]
    }
   ],
   "source": [
    "res_search_rational = opt.brute(cost_func, [[0, 1], [0, 1]], args=(yk, x, 'rational'), Ns=int(1/eps) + 1)\n",
    "res_gauss_rational = opt.minimize(cost_func, [0, 0], args=(yk, x, 'rational'), method='Powell', tol=eps, bounds=[[-1, 1], [-1, 1]])\n",
    "res_nelder_mead_rational = opt.minimize(cost_func, [0, 0], args=(yk, x, 'rational'), method='Nelder-Mead', tol=eps, bounds=[[-1, 1], [-1, 1]])\n",
    "\n",
    "print(res_search_rational)\n",
    "print('*' * 80)\n",
    "print(res_gauss_rational)\n",
    "print('*' * 80)\n",
    "print(res_nelder_mead_rational)\n"
   ]
  },
  {
   "cell_type": "code",
   "execution_count": 97,
   "metadata": {},
   "outputs": [
    {
     "data": {
      "image/png": "[encoded data removed]",
      "text/plain": [
       "<Figure size 864x576 with 1 Axes>"
      ]
     },
     "metadata": {
      "needs_background": "light"
     },
     "output_type": "display_data"
    }
   ],
   "source": [
    "plt.figure(figsize=(12, 8))\n",
    "plt.plot(x, yk)\n",
    "plt.scatter(x, yk_noisy)\n",
    "plt.plot(x, rational_approx(x, *res_search_rational))\n",
    "plt.plot(x, rational_approx(x, *res_gauss_rational.x))\n",
    "plt.plot(x, rational_approx(x, *res_nelder_mead_rational.x))\n",
    "plt.legend(['Non Noisy data', 'Rational approximation search',\n",
    "           'Rational approximation gauss', 'Rational approximation Nelder-Mead', 'Noisy data'])\n",
    "plt.show()"
   ]
  }
 ],
 "metadata": {
  "interpreter": {
   "hash": "f0d76fbf7d55933c5497f0ed83726ce05d5cf36dc9e3cadd12c9e350048edcb3"
  },
  "kernelspec": {
   "display_name": "Python 3.9.8 64-bit ('itmo': venv)",
   "name": "python3"
  },
  "language_info": {
   "codemirror_mode": {
    "name": "ipython",
    "version": 3
   },
   "file_extension": ".py",
   "mimetype": "text/x-python",
   "name": "python",
   "nbconvert_exporter": "python",
   "pygments_lexer": "ipython3",
   "version": "3.9.8"
  },
  "orig_nbformat": 4
 },
 "nbformat": 4,
 "nbformat_minor": 2
}
